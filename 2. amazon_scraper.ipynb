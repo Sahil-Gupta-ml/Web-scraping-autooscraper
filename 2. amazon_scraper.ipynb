{
 "cells": [
  {
   "cell_type": "markdown",
   "metadata": {},
   "source": [
    "# Task - \n",
    "* Scraping the information like product name and its price from ecommerce sites like amazon\n",
    "\n"
   ]
  },
  {
   "cell_type": "code",
   "execution_count": 1,
   "metadata": {},
   "outputs": [],
   "source": [
    "# Importing autoscraper\n",
    "from autoscraper import AutoScraper"
   ]
  },
  {
   "cell_type": "code",
   "execution_count": 4,
   "metadata": {},
   "outputs": [
    {
     "name": "stdout",
     "output_type": "stream",
     "text": [
      "['Boult Audio Bass Buds Q2 Over-Ear Wired Lightweight Stereo Headphones, Deep Bass & in-Built Mic, Headset with Comfortable Ear Cushions, Long Cord (Black)', '₹499₹499\\n₹2,490₹2,490\\n\\nSave ₹1,991 (80%)', 'boAt Bassheads 900 On Ear Wired Headphones(Carbon Black)', '₹674₹674\\n₹2,490₹2,490\\n\\nSave ₹1,816 (73%)', 'boAt Rockerz 450 Bluetooth On-Ear Headphone with Mic(Luscious Black)', '₹1,499₹1,499\\n₹3,990₹3,990\\n\\nSave ₹2,491 (62%)', 'boAt Rockerz 550 Over-Ear Wireless Headphone with Ergonomic Aesthetics, Plush Padded Earcups, Immersive Audio, Bluetooth v5.0 & Upto 20H Playback (Black)', '₹1,999₹1,999\\n₹4,999₹4,999\\n\\nSave ₹3,000 (60%)', 'Redgear Cloak Wired RGB Gaming Headphones with Microphone for PC', '₹899₹899\\n₹1,799₹1,799\\n\\nSave ₹900 (50%)', 'pTron Studio Over-Ear Bluetooth 5.0 Wireless Headphones, Hi-Fi Sound with Deep Bass, 12Hrs Playback, Ergonomic & Lightweight Wireless Headset, Soft Cushions Earpads, Aux Port & Mic - (Black)', 'Deal of the Day \\n\\n\\n\\n\\n₹799₹799\\n₹1,999₹1,999\\n\\nSave ₹1,200 (60%)', 'JBL C100SI In-Ear Deep Bass Headphones with Mic (Black)', 'Limited time deal\\n\\n\\n\\n\\n₹649₹649\\n₹1,299₹1,299\\n\\nSave ₹650 (50%)', 'boAt Rockerz 510 Bluetooth On-Ear Headphone with Mic(Furious Blue)', '₹1,599₹1,599\\n₹3,490₹3,490\\n\\nSave ₹1,891 (54%)', 'boAt Rockerz 370 Wireless Headphone with Bluetooth 5.0, Immersive Audio, Lightweight Ergonomic Design, Cosy Padded Earcups and Up to 12H Playback Bliss (Buoyant Black)', '₹1,199₹1,199\\n₹2,499₹2,499\\n\\nSave ₹1,300 (52%)', 'boAt Bassheads 100 in Ear Wired Earphones with Mic(Black)', '₹399₹399\\n₹999₹999\\n\\nSave ₹600 (60%)', 'pTron Tangent Lite Bluetooth 5.0 Wireless Headphones with Hi-Fi Stereo Sound, 6Hrs Playtime, Lightweight Ergonomic Neckband, Sweat-Resistant Magnetic Earbuds, Voice Assistant & Mic - (Black)', '₹649₹649\\n₹1,800₹1,800\\n\\nSave ₹1,151 (64%)', 'Cosmic Byte GS430 Gaming Headphone, 7 Color RGB LED and Microphone for PC, PS5, Xbox, Mobiles, Tablets, Laptops (Black)', 'Windows Vista\\n\\n\\n\\n\\n\\n\\nLimited time deal\\n\\n\\n\\n\\n₹849₹849\\n₹1,399₹1,399\\n\\nSave ₹550 (39%)', 'JBL C50HI in-Ear Headphones with Mic (Blue)', '₹499₹499\\n₹999₹999\\n\\nSave ₹500 (50%)', 'iBall Kids Diva Wired Headphone with in line Volume Controller (Violet and Pink)', 'Limited time deal\\n\\n\\n\\n\\n₹299₹299\\n₹999₹999\\n\\nSave ₹700 (70%)', 'Zebronics Zeb-Thunder Wireless BT Headphone Comes with 40mm Drivers, AUX Connectivity, Built in FM, Call Function, 9Hrs* Playback time and Supports Micro SD Card (Red)', '₹749₹749\\n₹1,199₹1,199\\n\\nSave ₹450 (38%)', 'Techfire Bluetooth Neckband, in-Ear Wireless Earphones with 12 Hour Battery Life, Fast Charging & in-Built Mic, IPX5 Sweatproof Headphones (Blue)', '₹599₹599\\n₹1,700₹1,700\\n\\nSave ₹1,101 (65%)', 'Boult Audio Bass Buds Q2 Over-Ear Wired Lightweight Stereo Headphones, Deep Bass & in-Built Mic, Headset with Comfortable ...', 'boAt Rockerz 550 Over-Ear Wireless Headphone with Ergonomic Aesthetics, Plush Padded Earcups, Immersive Audio, Bluetooth v...', 'pTron Studio Over-Ear Bluetooth 5.0 Wireless Headphones, Hi-Fi Sound with Deep Bass, 12Hrs Playback, Ergonomic & Lightweig...', 'boAt Rockerz 370 Wireless Headphone with Bluetooth 5.0, Immersive Audio, Lightweight Ergonomic Design, Cosy Padded Earcups...', 'pTron Tangent Lite Bluetooth 5.0 Wireless Headphones with Hi-Fi Stereo Sound, 6Hrs Playtime, Lightweight Ergonomic Neckban...', 'Zebronics Zeb-Thunder Wireless BT Headphone Comes with 40mm Drivers, AUX Connectivity, Built in FM, Call Function, 9Hrs* P...', 'Techfire Bluetooth Neckband, in-Ear Wireless Earphones with 12 Hour Battery Life, Fast Charging & in-Built Mic, IPX5 Sweat...', '₹499', '₹2,490', '₹674', '₹1,499', '₹3,990', '₹1,999', '₹4,999', '₹899', '₹1,799', '₹799', '₹649', '₹1,299', '₹1,599', '₹3,490', '₹1,199', '₹2,499', '₹399', '₹999', '₹1,800', '₹849', '₹1,399', '₹299', '₹749', '₹599', '₹1,700']\n"
     ]
    }
   ],
   "source": [
    "# Getting the page url as an example for making the scraper.\n",
    "amazon_url = \"https://www.amazon.in/headphones/s?k=headphones\"\n",
    "\n",
    "# Creating a list of wanted information from the provided url.\n",
    "wanted_lst = [\"Redgear Cloak Wired RGB Gaming Headphones with Microphone for PC\", \"₹899\"]\n",
    "\n",
    "scraper = AutoScraper()\n",
    "result = scraper.build(amazon_url, wanted_lst)\n",
    "print(result)"
   ]
  },
  {
   "cell_type": "code",
   "execution_count": 5,
   "metadata": {},
   "outputs": [
    {
     "data": {
      "text/plain": [
       "{'rule_uvyq': ['₹499₹499 ₹2,490₹2,490  Save ₹1,991 (80%)',\n",
       "  '₹674₹674 ₹2,490₹2,490  Save ₹1,816 (73%)',\n",
       "  '₹1,499₹1,499 ₹3,990₹3,990  Save ₹2,491 (62%)',\n",
       "  '₹1,999₹1,999 ₹4,999₹4,999  Save ₹3,000 (60%)',\n",
       "  'Limited time deal  ₹299₹299 ₹999₹999  Save ₹700 (70%)',\n",
       "  'Limited time deal  ₹649₹649 ₹1,299₹1,299  Save ₹650 (50%)',\n",
       "  '₹1,599₹1,599 ₹3,490₹3,490  Save ₹1,891 (54%)',\n",
       "  'Deal of the Day   ₹799₹799 ₹1,999₹1,999  Save ₹1,200 (60%)',\n",
       "  '₹749₹749 ₹1,199₹1,199  Save ₹450 (38%)',\n",
       "  '₹399₹399 ₹999₹999  Save ₹600 (60%)',\n",
       "  '₹399₹399 ₹1,290₹1,290  Save ₹891 (69%)',\n",
       "  '₹1,999₹1,999 ₹3,990₹3,990  Save ₹1,991 (50%)',\n",
       "  '₹699₹699 ₹999₹999  Save ₹300 (30%)',\n",
       "  '₹795₹795',\n",
       "  '₹549₹549 ₹899₹899  Save ₹350 (39%)',\n",
       "  '₹499₹499 ₹1,900₹1,900  Save ₹1,401 (74%)'],\n",
       " 'rule_7e36': ['Boult Audio Bass Buds Q2 Over-Ear Wired Lightweight Stereo Headphones, Deep Bass & in-Built Mic, Headset with Comfortable ...',\n",
       "  'boAt Bassheads 900 On Ear Wired Headphones(Carbon Black)',\n",
       "  'boAt Rockerz 450 Bluetooth On-Ear Headphone with Mic(Luscious Black)',\n",
       "  'boAt Rockerz 550 Over-Ear Wireless Headphone with Ergonomic Aesthetics, Plush Padded Earcups, Immersive Audio, Bluetooth v...',\n",
       "  'iBall Kids Diva Wired Headphone with in line Volume Controller (Violet and Pink)',\n",
       "  'JBL C100SI In-Ear Deep Bass Headphones with Mic (Black)',\n",
       "  'boAt Rockerz 510 Bluetooth On-Ear Headphone with Mic(Furious Blue)',\n",
       "  'pTron Studio Over-Ear Bluetooth 5.0 Wireless Headphones, Hi-Fi Sound with Deep Bass, 12Hrs Playback, Ergonomic & Lightweig...',\n",
       "  'Zebronics Zeb-Thunder Wireless BT Headphone Comes with 40mm Drivers, AUX Connectivity, Built in FM, Call Function, 9Hrs* P...',\n",
       "  'boAt Bassheads 100 in Ear Wired Earphones with Mic(Black)',\n",
       "  'boAt Bassheads 102 in Ear Wired Earphones with Mic(Jazzy Blue)',\n",
       "  'Boat Rockerz 450 Pro Bluetooth On-Ear Headphone with Mic(Aqua Blue), one Size',\n",
       "  'Lopina SH-12 Wireless Universal Bluetooth Headphone Headset with FM and SD Card Slot for Music and Calling Control (Black)',\n",
       "  'Logitech H111 Wired Headset, Stereo Headphones with Noise-Cancelling Microphone, 3.5 mm Audio Jack, PC/Mac/Laptop/Smartpho...',\n",
       "  'LAPCARE Stereo Headset LWS-004 Headphone with Flexible Mic for PC, Mobiles, Play Station, Xbox, Tablets',\n",
       "  'pTron Boom Ultima 4D Dual Driver, in-Ear Gaming Wired Headphones with in-line Mic, Volume Control & Passive Noise Cancelli...'],\n",
       " 'rule_wquc': ['₹499',\n",
       "  '₹2,490',\n",
       "  '₹674',\n",
       "  '₹2,490',\n",
       "  '₹1,499',\n",
       "  '₹3,990',\n",
       "  '₹1,999',\n",
       "  '₹4,999',\n",
       "  '₹299',\n",
       "  '₹999',\n",
       "  '₹649',\n",
       "  '₹1,299',\n",
       "  '₹1,599',\n",
       "  '₹3,490',\n",
       "  '₹799',\n",
       "  '₹1,999',\n",
       "  '₹749',\n",
       "  '₹1,199',\n",
       "  '₹399',\n",
       "  '₹999',\n",
       "  '₹399',\n",
       "  '₹1,290',\n",
       "  '₹1,999',\n",
       "  '₹3,990',\n",
       "  '₹699',\n",
       "  '₹999',\n",
       "  '₹795',\n",
       "  '₹549',\n",
       "  '₹899',\n",
       "  '₹499',\n",
       "  '₹1,900'],\n",
       " 'rule_4zv6': ['₹499',\n",
       "  '₹2,490',\n",
       "  '₹674',\n",
       "  '₹2,490',\n",
       "  '₹1,499',\n",
       "  '₹3,990',\n",
       "  '₹1,999',\n",
       "  '₹4,999',\n",
       "  '₹299',\n",
       "  '₹999',\n",
       "  '₹649',\n",
       "  '₹1,299',\n",
       "  '₹1,599',\n",
       "  '₹3,490',\n",
       "  '₹799',\n",
       "  '₹1,999',\n",
       "  '₹749',\n",
       "  '₹1,199',\n",
       "  '₹399',\n",
       "  '₹999',\n",
       "  '₹399',\n",
       "  '₹1,290',\n",
       "  '₹1,999',\n",
       "  '₹3,990',\n",
       "  '₹699',\n",
       "  '₹999',\n",
       "  '₹795',\n",
       "  '₹549',\n",
       "  '₹899',\n",
       "  '₹499',\n",
       "  '₹1,900']}"
      ]
     },
     "execution_count": 5,
     "metadata": {},
     "output_type": "execute_result"
    }
   ],
   "source": [
    "scraper.get_result_similar(\"https://www.amazon.in/headphones/s?k=headphones\", grouped = True)"
   ]
  },
  {
   "cell_type": "code",
   "execution_count": 6,
   "metadata": {},
   "outputs": [],
   "source": [
    "scraper.set_rule_aliases({'rule_7e36': \"Product_name\", \"rule_wquc\": \"price\"})\n",
    "scraper.keep_rules(['rule_7e36','rule_wquc'])\n",
    "\n",
    "# saving the scraper for future use.\n",
    "scraper.save('amazon-sraper')"
   ]
  },
  {
   "cell_type": "code",
   "execution_count": 8,
   "metadata": {},
   "outputs": [],
   "source": [
    "# Getting the scraping result after providing the new amazon url.\n",
    "result = scraper.get_result_similar(\"https://www.amazon.in/s?k=phones&ref=nb_sb_noss_2\", group_by_alias=True)"
   ]
  },
  {
   "cell_type": "code",
   "execution_count": 9,
   "metadata": {},
   "outputs": [
    {
     "data": {
      "text/plain": [
       "['Redmi 9A (Nature Green, 2GB Ram, 32GB Storage) | 2GHz Octa-core Helio G25 Processor',\n",
       " 'Redmi 9 (Sky Blue, 4GB RAM, 64GB Storage)',\n",
       " 'Oppo A31 (Mystery Black, 6GB RAM, 128GB Storage) with No Cost EMI/Additional Exchange Offers',\n",
       " 'OnePlus Nord 5G (Blue Marble, 12GB RAM, 256GB Storage)',\n",
       " 'Redmi Note 9 (Pebble Grey, 4GB RAM 64GB Storage) - 48MP Quad Camera & Full HD+ Display | Extra INR 1000 Off on Exchange',\n",
       " 'Samsung Galaxy M31 (Ocean Blue, 6GB RAM, 128GB Storage)',\n",
       " 'Oppo A31 (Fantasy White, 6GB RAM, 128GB Storage) with No Cost EMI/Additional Exchange Offers',\n",
       " 'Panasonic Eluga i7 (2GB RAM, 16GB Storage, Finger Print Sensor, 4000mAh Battery) (Black)',\n",
       " 'OnePlus Nord 5G (Gray Onyx, 12GB RAM, 256GB Storage)',\n",
       " 'Redmi 9 Prime (Sunrise Flare, 4GB RAM, 64GB Storage)- Full HD+ Display & AI Quad Camera',\n",
       " 'OPPO A31 (Fantasy White, 4GB RAM, 64GB Storage) with No Cost EMI/Additional Exchange Offers',\n",
       " 'Samsung Galaxy M01 Core (Blue, 2GB RAM, 32GB Storage) with No Cost EMI/Additional Exchange Offers',\n",
       " 'Redmi 9A (Sea Blue, 3GB Ram, 32GB Storage) | 2GHz Octa-core Helio G25 Processor',\n",
       " 'Redmi 9 Sporty Orange, 4GB RAM, 128GB Storage',\n",
       " 'Redmi 9A (Nature Green, 3GB Ram, 32GB Storage) | 2GHz Octa-core Helio G25 Processor',\n",
       " 'Samsung Galaxy M01 Core (Black, 2GB RAM, 32GB Storage) with No Cost EMI/Additional Exchange Offers']"
      ]
     },
     "execution_count": 9,
     "metadata": {},
     "output_type": "execute_result"
    }
   ],
   "source": [
    "# Getting the product namme \n",
    "result[\"Product_name\"]"
   ]
  },
  {
   "cell_type": "code",
   "execution_count": 13,
   "metadata": {},
   "outputs": [
    {
     "data": {
      "text/plain": [
       "['₹6,799',\n",
       " '₹8,499',\n",
       " '₹8,799',\n",
       " '₹10,999',\n",
       " '₹10,990',\n",
       " '₹15,990',\n",
       " '₹29,999',\n",
       " '₹10,999',\n",
       " '₹14,999',\n",
       " '₹16,499',\n",
       " '₹19,999',\n",
       " '₹10,990',\n",
       " '₹15,990',\n",
       " '₹5,000',\n",
       " '₹10,999',\n",
       " '₹29,999',\n",
       " '₹9,999',\n",
       " '₹11,999',\n",
       " '₹9,990',\n",
       " '₹12,990',\n",
       " '₹6,199',\n",
       " '₹8,499',\n",
       " '₹7,499',\n",
       " '₹9,499',\n",
       " '₹9,999',\n",
       " '₹10,999',\n",
       " '₹7,499',\n",
       " '₹9,499',\n",
       " '₹6,199',\n",
       " '₹8,499']"
      ]
     },
     "execution_count": 13,
     "metadata": {},
     "output_type": "execute_result"
    }
   ],
   "source": [
    "# Getting price of the product\n",
    "result[\"price\"]"
   ]
  },
  {
   "cell_type": "markdown",
   "metadata": {},
   "source": [
    "* As it can be seen that title is caoming out perfectly but in the price section the discounted proce and the actual price both are visible so in order to get just the discounted price we will use slicing.\n"
   ]
  },
  {
   "cell_type": "code",
   "execution_count": 14,
   "metadata": {},
   "outputs": [
    {
     "data": {
      "text/plain": [
       "['₹6,799',\n",
       " '₹8,799',\n",
       " '₹10,990',\n",
       " '₹29,999',\n",
       " '₹14,999',\n",
       " '₹19,999',\n",
       " '₹15,990',\n",
       " '₹10,999',\n",
       " '₹9,999',\n",
       " '₹9,990',\n",
       " '₹6,199',\n",
       " '₹7,499',\n",
       " '₹9,999',\n",
       " '₹7,499',\n",
       " '₹6,199']"
      ]
     },
     "execution_count": 14,
     "metadata": {},
     "output_type": "execute_result"
    }
   ],
   "source": [
    "# Getting the discouted price \n",
    "result[\"price\"][::2]"
   ]
  },
  {
   "cell_type": "markdown",
   "metadata": {},
   "source": [
    "* Now the scrapper is working just fine."
   ]
  },
  {
   "cell_type": "code",
   "execution_count": null,
   "metadata": {},
   "outputs": [],
   "source": []
  }
 ],
 "metadata": {
  "kernelspec": {
   "display_name": "Python 3",
   "language": "python",
   "name": "python3"
  },
  "language_info": {
   "codemirror_mode": {
    "name": "ipython",
    "version": 3
   },
   "file_extension": ".py",
   "mimetype": "text/x-python",
   "name": "python",
   "nbconvert_exporter": "python",
   "pygments_lexer": "ipython3",
   "version": "3.6.5"
  }
 },
 "nbformat": 4,
 "nbformat_minor": 2
}
